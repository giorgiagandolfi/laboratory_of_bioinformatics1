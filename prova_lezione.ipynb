{
  "nbformat": 4,
  "nbformat_minor": 0,
  "metadata": {
    "colab": {
      "name": "prova_lezione.ipynb",
      "provenance": [],
      "authorship_tag": "ABX9TyPdubCIrToYmZmFM1+fWgpb",
      "include_colab_link": true
    },
    "kernelspec": {
      "name": "python3",
      "display_name": "Python 3"
    }
  },
  "cells": [
    {
      "cell_type": "markdown",
      "metadata": {
        "id": "view-in-github",
        "colab_type": "text"
      },
      "source": [
        "<a href=\"https://colab.research.google.com/github/giorgiagandolfi/laboratory_of_bioinformatics1/blob/master/prova_lezione.ipynb\" target=\"_parent\"><img src=\"https://colab.research.google.com/assets/colab-badge.svg\" alt=\"Open In Colab\"/></a>"
      ]
    },
    {
      "cell_type": "code",
      "metadata": {
        "colab_type": "code",
        "id": "ra1US_ZbtvaK",
        "colab": {}
      },
      "source": [
        "names[:-1]"
      ],
      "execution_count": 0,
      "outputs": []
    },
    {
      "cell_type": "code",
      "metadata": {
        "id": "egGmPYr6pblR",
        "colab_type": "code",
        "colab": {}
      },
      "source": [
        "import pandas as pd\n",
        "\n",
        "url = 'https://raw.githubusercontent.com/dbonacorsi/AML_basic_AA1920/master/datasets/pima-indians-diabetes.data.csv'\n",
        "\n",
        "names = ['preg', 'plas', 'pres', 'skin', 'test', 'mass', 'pedi', 'age', 'class']\n",
        "data = pd.read_csv(url, names=names)\n",
        "data"
      ],
      "execution_count": 0,
      "outputs": []
    },
    {
      "cell_type": "markdown",
      "metadata": {
        "id": "DaOb3ynlZIpw",
        "colab_type": "text"
      },
      "source": [
        "# Rescale data:\n"
      ]
    },
    {
      "cell_type": "code",
      "metadata": {
        "id": "sOjO9TWcY7jw",
        "colab_type": "code",
        "colab": {}
      },
      "source": [
        "from numpy import set_printoptions"
      ],
      "execution_count": 0,
      "outputs": []
    },
    {
      "cell_type": "code",
      "metadata": {
        "id": "ITRTjGMuatkx",
        "colab_type": "code",
        "colab": {}
      },
      "source": [
        "from sklearn.preprocessing import MinMaxScaler"
      ],
      "execution_count": 0,
      "outputs": []
    },
    {
      "cell_type": "code",
      "metadata": {
        "id": "hNsD57CVa2Tp",
        "colab_type": "code",
        "colab": {}
      },
      "source": [
        "array = data.values\n",
        "array"
      ],
      "execution_count": 0,
      "outputs": []
    },
    {
      "cell_type": "code",
      "metadata": {
        "id": "HPph2hqZbCnA",
        "colab_type": "code",
        "colab": {}
      },
      "source": [
        "type(array)"
      ],
      "execution_count": 0,
      "outputs": []
    },
    {
      "cell_type": "code",
      "metadata": {
        "id": "UkVpZSwMbFoF",
        "colab_type": "code",
        "colab": {}
      },
      "source": [
        "X = array[:, 0:8] # all the possible row with all columnbs\n",
        "Y = array [:, 8]"
      ],
      "execution_count": 0,
      "outputs": []
    },
    {
      "cell_type": "code",
      "metadata": {
        "id": "tSEQSHgebZ2A",
        "colab_type": "code",
        "colab": {}
      },
      "source": [
        "X #features"
      ],
      "execution_count": 0,
      "outputs": []
    },
    {
      "cell_type": "code",
      "metadata": {
        "id": "2HDVq-Flbk5M",
        "colab_type": "code",
        "colab": {}
      },
      "source": [
        "Y #is the last column with the class"
      ],
      "execution_count": 0,
      "outputs": []
    },
    {
      "cell_type": "code",
      "metadata": {
        "id": "mn40cIoYb1Ce",
        "colab_type": "code",
        "colab": {}
      },
      "source": [
        "#resclaled data in a specifi range, in this case 0-1 or 0-10\n",
        "scaler_1 = MinMaxScaler(feature_range=(0, 1)) \n",
        "scaler_2 = MinMaxScaler(feature_range=(0, 10))\n",
        "rescaledX_1 = scaler_1.fit_transform(X) #prepare and run the transform\n",
        "rescaledX_2 = scaler_2.fit_transform(X)\n",
        "\n",
        "#summarize\n",
        "set_printoptions(precision=3)\n",
        "#print(X[0:5,:])\n",
        "\n",
        "print(rescaledX_1[0:5,:]) # rescaling\n"
      ],
      "execution_count": 0,
      "outputs": []
    },
    {
      "cell_type": "code",
      "metadata": {
        "id": "yD5tUhKNc1Pb",
        "colab_type": "code",
        "colab": {}
      },
      "source": [
        "print(rescaledX_2[0:5, :])"
      ],
      "execution_count": 0,
      "outputs": []
    },
    {
      "cell_type": "markdown",
      "metadata": {
        "id": "D20Twyj6Zp9M",
        "colab_type": "text"
      },
      "source": [
        "# Standardize data"
      ]
    },
    {
      "cell_type": "code",
      "metadata": {
        "id": "bzgHg_NLZeBy",
        "colab_type": "code",
        "colab": {}
      },
      "source": [
        "from sklearn.preprocessing import StandardScaler"
      ],
      "execution_count": 0,
      "outputs": []
    },
    {
      "cell_type": "code",
      "metadata": {
        "id": "NSEjAPPEg1yx",
        "colab_type": "code",
        "colab": {}
      },
      "source": [
        "# mean = 0 and stdev = 1\n",
        "scaler_1 = StandardScaler().fit(X)\n",
        "rescaledX_1 = scaler_1.transform(X)"
      ],
      "execution_count": 0,
      "outputs": []
    },
    {
      "cell_type": "code",
      "metadata": {
        "id": "77GLI8LfhXXl",
        "colab_type": "code",
        "colab": {
          "base_uri": "https://localhost:8080/",
          "height": 104
        },
        "outputId": "4e865e54-722b-4cc7-82c3-2be2f84341ee"
      },
      "source": [
        "# summarize transform data\n",
        "set_printoptions(precision=3)\n",
        "print(rescaledX_1[0:5, :])"
      ],
      "execution_count": 22,
      "outputs": [
        {
          "output_type": "stream",
          "text": [
            "[[ 0.64   0.848  0.15   0.907 -0.693  0.204  0.468  1.426]\n",
            " [-0.845 -1.123 -0.161  0.531 -0.693 -0.684 -0.365 -0.191]\n",
            " [ 1.234  1.944 -0.264 -1.288 -0.693 -1.103  0.604 -0.106]\n",
            " [-0.845 -0.998 -0.161  0.155  0.123 -0.494 -0.921 -1.042]\n",
            " [-1.142  0.504 -1.505  0.907  0.766  1.41   5.485 -0.02 ]]\n"
          ],
          "name": "stdout"
        }
      ]
    },
    {
      "cell_type": "markdown",
      "metadata": {
        "id": "4O_naYzxZuNv",
        "colab_type": "text"
      },
      "source": [
        "# Normalize data: \n",
        "I want a lenght of one. This method is useful when I have sparse data. Different ways. "
      ]
    },
    {
      "cell_type": "code",
      "metadata": {
        "id": "dfq6fWPpkBZG",
        "colab_type": "code",
        "colab": {}
      },
      "source": [
        "from sklearn.preprocessing import Normalizer"
      ],
      "execution_count": 0,
      "outputs": []
    },
    {
      "cell_type": "markdown",
      "metadata": {
        "id": "zDnX3WoAZ92Z",
        "colab_type": "text"
      },
      "source": [
        "# Binarize data:\n",
        "It is not mandatory to be applied. Idea: take the data and **trasform them either in 0 or 1** depending on a threshold. Libraries to this for us. "
      ]
    },
    {
      "cell_type": "markdown",
      "metadata": {
        "id": "yeroSTKGk1a5",
        "colab_type": "text"
      },
      "source": [
        "# Feature selection"
      ]
    },
    {
      "cell_type": "markdown",
      "metadata": {
        "id": "xITa0QW9ld0b",
        "colab_type": "text"
      },
      "source": [
        "Understand among the attrbutes, how to selelect the best features. \n",
        "\n",
        "1) **reduction of overfitting**: the features are there because they are expressive and from which I can leran somehting;\n",
        "\n",
        "2) **improvement of the accurancy**: if we don't have misleading data in the sample, the modle accurnacy can be improved. Get a model that is more accurate,a ble to better generalize\n",
        "\n",
        "3) **reduction of training time.**\n"
      ]
    },
    {
      "cell_type": "code",
      "metadata": {
        "colab_type": "code",
        "id": "VsRY1A5io3dF",
        "colab": {}
      },
      "source": [
        "import pandas as pd\n",
        "\n",
        "url = 'https://raw.githubusercontent.com/dbonacorsi/AML_basic_AA1920/master/datasets/pima-indians-diabetes.data.csv'\n",
        "\n",
        "names = ['preg', 'plas', 'pres', 'skin', 'test', 'mass', 'pedi', 'age', 'class']\n",
        "data = pd.read_csv(url, names=names)\n",
        "data"
      ],
      "execution_count": 0,
      "outputs": []
    },
    {
      "cell_type": "markdown",
      "metadata": {
        "id": "AqUxrV0io9fu",
        "colab_type": "text"
      },
      "source": [
        "# Univariate selection"
      ]
    },
    {
      "cell_type": "code",
      "metadata": {
        "id": "evZ0LUW9RN5K",
        "colab_type": "code",
        "colab": {}
      },
      "source": [
        "#from pandas import read_csv\n",
        "from numpy import set_printoptions\n",
        "\n",
        "from sklearn.feature_selection import SelectKBest\n",
        "from sklearn.feature_selection import chi2"
      ],
      "execution_count": 0,
      "outputs": []
    },
    {
      "cell_type": "code",
      "metadata": {
        "id": "8KrLQLbipBh7",
        "colab_type": "code",
        "colab": {}
      },
      "source": [
        "array = data.values\n",
        "X = array[:, 0:8]\n",
        "Y = array[:,8]"
      ],
      "execution_count": 0,
      "outputs": []
    },
    {
      "cell_type": "code",
      "metadata": {
        "id": "A-tDSb4qpXFk",
        "colab_type": "code",
        "colab": {}
      },
      "source": [
        "X.shape #features"
      ],
      "execution_count": 0,
      "outputs": []
    },
    {
      "cell_type": "code",
      "metadata": {
        "id": "77S_wURLpcMh",
        "colab_type": "code",
        "colab": {}
      },
      "source": [
        "Y.shape #labels"
      ],
      "execution_count": 0,
      "outputs": []
    },
    {
      "cell_type": "markdown",
      "metadata": {
        "id": "druuPbWDpiR9",
        "colab_type": "text"
      },
      "source": [
        "Usare il test del chi2 per trovare la migliore feature (k) tra le 8 possibili."
      ]
    },
    {
      "cell_type": "code",
      "metadata": {
        "id": "Veh1OLggpfEm",
        "colab_type": "code",
        "colab": {}
      },
      "source": [
        "test = SelectKBest(score_func=chi2, k=3)\n",
        "fit = test.fit(X, Y)"
      ],
      "execution_count": 0,
      "outputs": []
    },
    {
      "cell_type": "markdown",
      "metadata": {
        "id": "VH8mdvNKp6Y2",
        "colab_type": "text"
      },
      "source": [
        "Summarize the scores retrieved from the test"
      ]
    },
    {
      "cell_type": "code",
      "metadata": {
        "id": "EgtJU9AFp4q0",
        "colab_type": "code",
        "colab": {
          "base_uri": "https://localhost:8080/",
          "height": 34
        },
        "outputId": "7b54b7cf-74b3-4f24-f7ae-d1258ff8a0d7"
      },
      "source": [
        "set_printoptions(precision=3)\n",
        "print(fit.scores_)"
      ],
      "execution_count": 57,
      "outputs": [
        {
          "output_type": "stream",
          "text": [
            "[ 111.52  1411.887   17.605   53.108 2175.565  127.669    5.393  181.304]\n"
          ],
          "name": "stdout"
        }
      ]
    },
    {
      "cell_type": "code",
      "metadata": {
        "id": "PgzSUCXTqLCW",
        "colab_type": "code",
        "colab": {
          "base_uri": "https://localhost:8080/",
          "height": 34
        },
        "outputId": "2de58ae7-92c1-41f9-9bed-0a4a59011cfb"
      },
      "source": [
        "names[:-1]"
      ],
      "execution_count": 39,
      "outputs": [
        {
          "output_type": "execute_result",
          "data": {
            "text/plain": [
              "['preg', 'plas', 'pres', 'skin', 'test', 'mass', 'pedi', 'age']"
            ]
          },
          "metadata": {
            "tags": []
          },
          "execution_count": 39
        }
      ]
    },
    {
      "cell_type": "markdown",
      "metadata": {
        "id": "nq7t_hMUqQDG",
        "colab_type": "text"
      },
      "source": [
        "As it is possible to see, the best features are the ones with the highestvalue of chi2: **plas, test and age**."
      ]
    },
    {
      "cell_type": "code",
      "metadata": {
        "id": "bmJGe-6TqOHU",
        "colab_type": "code",
        "colab": {}
      },
      "source": [
        "X_new = SelectKBest(score_func=chi2, k=3).fit_transform(X, Y)"
      ],
      "execution_count": 0,
      "outputs": []
    },
    {
      "cell_type": "code",
      "metadata": {
        "id": "zEMv_H0Iq6SW",
        "colab_type": "code",
        "colab": {
          "base_uri": "https://localhost:8080/",
          "height": 34
        },
        "outputId": "5fdf31a4-d0c2-4f7b-e11c-8827e4ed9cd1"
      },
      "source": [
        "X_new.shape"
      ],
      "execution_count": 41,
      "outputs": [
        {
          "output_type": "execute_result",
          "data": {
            "text/plain": [
              "(768, 3)"
            ]
          },
          "metadata": {
            "tags": []
          },
          "execution_count": 41
        }
      ]
    },
    {
      "cell_type": "code",
      "metadata": {
        "id": "-BPlv60wq9VL",
        "colab_type": "code",
        "colab": {}
      },
      "source": [
        "X_new"
      ],
      "execution_count": 0,
      "outputs": []
    },
    {
      "cell_type": "markdown",
      "metadata": {
        "id": "QpIDLfB4rp7X",
        "colab_type": "text"
      },
      "source": [
        "In the next step we can summurize the best selected features"
      ]
    },
    {
      "cell_type": "code",
      "metadata": {
        "id": "9kyfDezErSi5",
        "colab_type": "code",
        "colab": {}
      },
      "source": [
        "X_new1 = fit.transform(X)\n",
        "print(X_new1[0:10,:])"
      ],
      "execution_count": 0,
      "outputs": []
    },
    {
      "cell_type": "markdown",
      "metadata": {
        "id": "OUhQF8Vkrv3-",
        "colab_type": "text"
      },
      "source": [
        "We can do this also in one single shot (even if dangerous)"
      ]
    },
    {
      "cell_type": "code",
      "metadata": {
        "id": "7waiPBLXmU7z",
        "colab_type": "code",
        "colab": {}
      },
      "source": [
        "X_new2 = SelectKBest(score_func=chi2, k=3).fit_transform(X,Y)\n",
        "print(X_new2[0:10,:])"
      ],
      "execution_count": 0,
      "outputs": []
    },
    {
      "cell_type": "markdown",
      "metadata": {
        "id": "lypjjATZmlAz",
        "colab_type": "text"
      },
      "source": [
        "# Recursive Feature Elimination\n"
      ]
    },
    {
      "cell_type": "code",
      "metadata": {
        "id": "fnDN-IJQnKeI",
        "colab_type": "code",
        "colab": {}
      },
      "source": [
        "from sklearn.feature_selection import RFE\n",
        "from sklearn.linear_model import LogisticRegression"
      ],
      "execution_count": 0,
      "outputs": []
    },
    {
      "cell_type": "code",
      "metadata": {
        "id": "_cZ0KRHesERq",
        "colab_type": "code",
        "colab": {}
      },
      "source": [
        "model = LogisticRegression()\n",
        "rfe = RFE(model, 3)\n",
        "fit = rfe.fit(X, Y)\n",
        "print(\"Num. Features: %d\" % fit.n_features_)\n",
        "print(\"Selected Features: %s\" % fit.support_)\n",
        "print(\"Feature Ranking:%s\" % fit.ranking_)"
      ],
      "execution_count": 0,
      "outputs": []
    },
    {
      "cell_type": "code",
      "metadata": {
        "id": "mK_5HB1oszkc",
        "colab_type": "code",
        "colab": {}
      },
      "source": [
        "names[:-1]"
      ],
      "execution_count": 0,
      "outputs": []
    },
    {
      "cell_type": "markdown",
      "metadata": {
        "id": "_2cGnvyXtCdB",
        "colab_type": "text"
      },
      "source": [
        "In this case the top 3 features selected are: **preg,mass and pedi**."
      ]
    },
    {
      "cell_type": "markdown",
      "metadata": {
        "id": "K9EhnMaMtU9S",
        "colab_type": "text"
      },
      "source": [
        "# Feature Importance"
      ]
    },
    {
      "cell_type": "code",
      "metadata": {
        "id": "PY6PI_cVtZpn",
        "colab_type": "code",
        "colab": {}
      },
      "source": [
        "from sklearn.ensemble import ExtraTreesClassifier"
      ],
      "execution_count": 0,
      "outputs": []
    },
    {
      "cell_type": "code",
      "metadata": {
        "id": "ksowJJxPtefy",
        "colab_type": "code",
        "colab": {}
      },
      "source": [
        "model = ExtraTreesClassifier()\n",
        "model.fit(X, Y)\n",
        "print(model.feature_importances_)"
      ],
      "execution_count": 0,
      "outputs": []
    },
    {
      "cell_type": "code",
      "metadata": {
        "id": "WaxzUHWxt0JP",
        "colab_type": "code",
        "colab": {}
      },
      "source": [
        "names[:-1]"
      ],
      "execution_count": 0,
      "outputs": []
    },
    {
      "cell_type": "markdown",
      "metadata": {
        "id": "W9njclsst5Rf",
        "colab_type": "text"
      },
      "source": [
        "The largest the score, the more important the feature associated to: in this case the three most important features are **preg, plas and age**."
      ]
    },
    {
      "cell_type": "markdown",
      "metadata": {
        "id": "5ZqL9otoxV0x",
        "colab_type": "text"
      },
      "source": [
        "# PCA"
      ]
    },
    {
      "cell_type": "code",
      "metadata": {
        "id": "7xYhxHzKxYC8",
        "colab_type": "code",
        "colab": {}
      },
      "source": [
        "from sklearn.decomposition import PCA"
      ],
      "execution_count": 0,
      "outputs": []
    },
    {
      "cell_type": "code",
      "metadata": {
        "id": "1hwG48Cpxd9i",
        "colab_type": "code",
        "colab": {}
      },
      "source": [
        "pca = PCA(n_components=3)\n",
        "fit = pca.fit(X)\n",
        "print(\"Explained Variance: %s\" % fit.explained_variance_ratio_)"
      ],
      "execution_count": 0,
      "outputs": []
    },
    {
      "cell_type": "markdown",
      "metadata": {
        "id": "lJjm9rM2x6EW",
        "colab_type": "text"
      },
      "source": [
        "# Result exercise:\n",
        " 1. plas, test and age\n",
        " 2. preg, mass and pedi\n",
        " 3. plas, mass and age\n",
        "\n",
        " plas = 2\n",
        " \n",
        " test = 1\n",
        " \n",
        " age = 2\n",
        " \n",
        " pedi = 1\n",
        " \n",
        " mass = 2 \n",
        "\n",
        " **plas, age and mass**"
      ]
    },
    {
      "cell_type": "markdown",
      "metadata": {
        "id": "-umxnA7zy3Ij",
        "colab_type": "text"
      },
      "source": [
        "# Evaluate the perfomrance of ML algo with **Resampling**"
      ]
    },
    {
      "cell_type": "markdown",
      "metadata": {
        "id": "tsEz96JgzBix",
        "colab_type": "text"
      },
      "source": [
        "## 1. Split into Train and Test Sets"
      ]
    },
    {
      "cell_type": "markdown",
      "metadata": {
        "id": "U3NM9wwLz7Nh",
        "colab_type": "text"
      },
      "source": [
        "## 2. K-fold Cross-Validation"
      ]
    }
  ]
}