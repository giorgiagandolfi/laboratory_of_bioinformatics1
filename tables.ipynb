{
  "nbformat": 4,
  "nbformat_minor": 0,
  "metadata": {
    "colab": {
      "name": "tables.ipynb",
      "provenance": [],
      "authorship_tag": "ABX9TyMse2NgrsS8fwRJdXZ6h/3M",
      "include_colab_link": true
    },
    "kernelspec": {
      "name": "python3",
      "display_name": "Python 3"
    }
  },
  "cells": [
    {
      "cell_type": "markdown",
      "metadata": {
        "id": "view-in-github",
        "colab_type": "text"
      },
      "source": [
        "<a href=\"https://colab.research.google.com/github/giorgiagandolfi/laboratory_of_bioinformatics1/blob/master/tables.ipynb\" target=\"_parent\"><img src=\"https://colab.research.google.com/assets/colab-badge.svg\" alt=\"Open In Colab\"/></a>"
      ]
    },
    {
      "cell_type": "markdown",
      "metadata": {
        "id": "VwofjwoKRKcN",
        "colab_type": "text"
      },
      "source": [
        "## Import the tables containig, for a different thresholds in the range 1 - 1e-19, the accurancy, the Matthew's correlation coefficient, the true positives rates, the false negatives rates, the false positives rate and the true negatives rate.\n",
        "\n"
      ]
    },
    {
      "cell_type": "code",
      "metadata": {
        "id": "JXZl_uX9lecW",
        "colab_type": "code",
        "colab": {}
      },
      "source": [
        "import pandas as pd\n",
        "url1 = 'https://raw.githubusercontent.com/giorgiagandolfi/laboratory_of_bioinformatics1/master/results_set1.csv'\n",
        "url2 = 'https://raw.githubusercontent.com/giorgiagandolfi/laboratory_of_bioinformatics1/master/results_set2.csv'\n",
        "names = ['thrshold','accurancy','mcc','TP','FN','FP','TN']\n",
        "data1 = pd.read_csv(url1, names = names)\n",
        "data2 = pd.read_csv(url2, names = names)\n"
      ],
      "execution_count": 0,
      "outputs": []
    },
    {
      "cell_type": "code",
      "metadata": {
        "id": "XyInq3_AMNtW",
        "colab_type": "code",
        "outputId": "12cbdebd-58cb-4997-843c-f85bfdefe090",
        "colab": {
          "base_uri": "https://localhost:8080/",
          "height": 646
        }
      },
      "source": [
        "data1"
      ],
      "execution_count": 0,
      "outputs": [
        {
          "output_type": "execute_result",
          "data": {
            "text/html": [
              "<div>\n",
              "<style scoped>\n",
              "    .dataframe tbody tr th:only-of-type {\n",
              "        vertical-align: middle;\n",
              "    }\n",
              "\n",
              "    .dataframe tbody tr th {\n",
              "        vertical-align: top;\n",
              "    }\n",
              "\n",
              "    .dataframe thead th {\n",
              "        text-align: right;\n",
              "    }\n",
              "</style>\n",
              "<table border=\"1\" class=\"dataframe\">\n",
              "  <thead>\n",
              "    <tr style=\"text-align: right;\">\n",
              "      <th></th>\n",
              "      <th>thrshold</th>\n",
              "      <th>accurancy</th>\n",
              "      <th>mcc</th>\n",
              "      <th>TP</th>\n",
              "      <th>FN</th>\n",
              "      <th>FP</th>\n",
              "      <th>TN</th>\n",
              "    </tr>\n",
              "  </thead>\n",
              "  <tbody>\n",
              "    <tr>\n",
              "      <th>0</th>\n",
              "      <td>1.000000e+00</td>\n",
              "      <td>0.720056</td>\n",
              "      <td>0.040192</td>\n",
              "      <td>177</td>\n",
              "      <td>78699</td>\n",
              "      <td>0</td>\n",
              "      <td>202248</td>\n",
              "    </tr>\n",
              "    <tr>\n",
              "      <th>1</th>\n",
              "      <td>1.000000e-01</td>\n",
              "      <td>0.963699</td>\n",
              "      <td>0.128177</td>\n",
              "      <td>177</td>\n",
              "      <td>10205</td>\n",
              "      <td>0</td>\n",
              "      <td>270742</td>\n",
              "    </tr>\n",
              "    <tr>\n",
              "      <th>2</th>\n",
              "      <td>1.000000e-02</td>\n",
              "      <td>0.995884</td>\n",
              "      <td>0.363507</td>\n",
              "      <td>177</td>\n",
              "      <td>1157</td>\n",
              "      <td>0</td>\n",
              "      <td>279790</td>\n",
              "    </tr>\n",
              "    <tr>\n",
              "      <th>3</th>\n",
              "      <td>1.000000e-03</td>\n",
              "      <td>0.999755</td>\n",
              "      <td>0.848136</td>\n",
              "      <td>177</td>\n",
              "      <td>69</td>\n",
              "      <td>0</td>\n",
              "      <td>280878</td>\n",
              "    </tr>\n",
              "    <tr>\n",
              "      <th>4</th>\n",
              "      <td>1.000000e-04</td>\n",
              "      <td>0.999947</td>\n",
              "      <td>0.960118</td>\n",
              "      <td>177</td>\n",
              "      <td>15</td>\n",
              "      <td>0</td>\n",
              "      <td>280932</td>\n",
              "    </tr>\n",
              "    <tr>\n",
              "      <th>5</th>\n",
              "      <td>1.000000e-05</td>\n",
              "      <td>0.999989</td>\n",
              "      <td>0.991626</td>\n",
              "      <td>177</td>\n",
              "      <td>3</td>\n",
              "      <td>0</td>\n",
              "      <td>280944</td>\n",
              "    </tr>\n",
              "    <tr>\n",
              "      <th>6</th>\n",
              "      <td>1.000000e-06</td>\n",
              "      <td>0.999993</td>\n",
              "      <td>0.994394</td>\n",
              "      <td>177</td>\n",
              "      <td>2</td>\n",
              "      <td>0</td>\n",
              "      <td>280945</td>\n",
              "    </tr>\n",
              "    <tr>\n",
              "      <th>7</th>\n",
              "      <td>1.000000e-07</td>\n",
              "      <td>0.999996</td>\n",
              "      <td>0.997185</td>\n",
              "      <td>177</td>\n",
              "      <td>1</td>\n",
              "      <td>0</td>\n",
              "      <td>280946</td>\n",
              "    </tr>\n",
              "    <tr>\n",
              "      <th>8</th>\n",
              "      <td>1.000000e-08</td>\n",
              "      <td>1.000000</td>\n",
              "      <td>1.000000</td>\n",
              "      <td>177</td>\n",
              "      <td>0</td>\n",
              "      <td>0</td>\n",
              "      <td>280947</td>\n",
              "    </tr>\n",
              "    <tr>\n",
              "      <th>9</th>\n",
              "      <td>1.000000e-09</td>\n",
              "      <td>1.000000</td>\n",
              "      <td>1.000000</td>\n",
              "      <td>177</td>\n",
              "      <td>0</td>\n",
              "      <td>0</td>\n",
              "      <td>280947</td>\n",
              "    </tr>\n",
              "    <tr>\n",
              "      <th>10</th>\n",
              "      <td>1.000000e-10</td>\n",
              "      <td>1.000000</td>\n",
              "      <td>1.000000</td>\n",
              "      <td>177</td>\n",
              "      <td>0</td>\n",
              "      <td>0</td>\n",
              "      <td>280947</td>\n",
              "    </tr>\n",
              "    <tr>\n",
              "      <th>11</th>\n",
              "      <td>1.000000e-11</td>\n",
              "      <td>1.000000</td>\n",
              "      <td>1.000000</td>\n",
              "      <td>177</td>\n",
              "      <td>0</td>\n",
              "      <td>0</td>\n",
              "      <td>280947</td>\n",
              "    </tr>\n",
              "    <tr>\n",
              "      <th>12</th>\n",
              "      <td>1.000000e-12</td>\n",
              "      <td>1.000000</td>\n",
              "      <td>1.000000</td>\n",
              "      <td>177</td>\n",
              "      <td>0</td>\n",
              "      <td>0</td>\n",
              "      <td>280947</td>\n",
              "    </tr>\n",
              "    <tr>\n",
              "      <th>13</th>\n",
              "      <td>1.000000e-13</td>\n",
              "      <td>0.999996</td>\n",
              "      <td>0.997169</td>\n",
              "      <td>176</td>\n",
              "      <td>0</td>\n",
              "      <td>1</td>\n",
              "      <td>280947</td>\n",
              "    </tr>\n",
              "    <tr>\n",
              "      <th>14</th>\n",
              "      <td>1.000000e-14</td>\n",
              "      <td>0.999993</td>\n",
              "      <td>0.994331</td>\n",
              "      <td>175</td>\n",
              "      <td>0</td>\n",
              "      <td>2</td>\n",
              "      <td>280947</td>\n",
              "    </tr>\n",
              "    <tr>\n",
              "      <th>15</th>\n",
              "      <td>1.000000e-15</td>\n",
              "      <td>0.999982</td>\n",
              "      <td>0.985766</td>\n",
              "      <td>172</td>\n",
              "      <td>0</td>\n",
              "      <td>5</td>\n",
              "      <td>280947</td>\n",
              "    </tr>\n",
              "    <tr>\n",
              "      <th>16</th>\n",
              "      <td>1.000000e-16</td>\n",
              "      <td>0.999972</td>\n",
              "      <td>0.977126</td>\n",
              "      <td>169</td>\n",
              "      <td>0</td>\n",
              "      <td>8</td>\n",
              "      <td>280947</td>\n",
              "    </tr>\n",
              "    <tr>\n",
              "      <th>17</th>\n",
              "      <td>1.000000e-17</td>\n",
              "      <td>0.999972</td>\n",
              "      <td>0.977126</td>\n",
              "      <td>169</td>\n",
              "      <td>0</td>\n",
              "      <td>8</td>\n",
              "      <td>280947</td>\n",
              "    </tr>\n",
              "    <tr>\n",
              "      <th>18</th>\n",
              "      <td>1.000000e-18</td>\n",
              "      <td>0.999950</td>\n",
              "      <td>0.959613</td>\n",
              "      <td>163</td>\n",
              "      <td>0</td>\n",
              "      <td>14</td>\n",
              "      <td>280947</td>\n",
              "    </tr>\n",
              "  </tbody>\n",
              "</table>\n",
              "</div>"
            ],
            "text/plain": [
              "        thrshold  accurancy       mcc   TP     FN  FP      TN\n",
              "0   1.000000e+00   0.720056  0.040192  177  78699   0  202248\n",
              "1   1.000000e-01   0.963699  0.128177  177  10205   0  270742\n",
              "2   1.000000e-02   0.995884  0.363507  177   1157   0  279790\n",
              "3   1.000000e-03   0.999755  0.848136  177     69   0  280878\n",
              "4   1.000000e-04   0.999947  0.960118  177     15   0  280932\n",
              "5   1.000000e-05   0.999989  0.991626  177      3   0  280944\n",
              "6   1.000000e-06   0.999993  0.994394  177      2   0  280945\n",
              "7   1.000000e-07   0.999996  0.997185  177      1   0  280946\n",
              "8   1.000000e-08   1.000000  1.000000  177      0   0  280947\n",
              "9   1.000000e-09   1.000000  1.000000  177      0   0  280947\n",
              "10  1.000000e-10   1.000000  1.000000  177      0   0  280947\n",
              "11  1.000000e-11   1.000000  1.000000  177      0   0  280947\n",
              "12  1.000000e-12   1.000000  1.000000  177      0   0  280947\n",
              "13  1.000000e-13   0.999996  0.997169  176      0   1  280947\n",
              "14  1.000000e-14   0.999993  0.994331  175      0   2  280947\n",
              "15  1.000000e-15   0.999982  0.985766  172      0   5  280947\n",
              "16  1.000000e-16   0.999972  0.977126  169      0   8  280947\n",
              "17  1.000000e-17   0.999972  0.977126  169      0   8  280947\n",
              "18  1.000000e-18   0.999950  0.959613  163      0  14  280947"
            ]
          },
          "metadata": {
            "tags": []
          },
          "execution_count": 3
        }
      ]
    },
    {
      "cell_type": "code",
      "metadata": {
        "id": "8Zcw23woMSNK",
        "colab_type": "code",
        "outputId": "da871309-6132-42b2-d2ac-2a8936786c08",
        "colab": {
          "base_uri": "https://localhost:8080/",
          "height": 677
        }
      },
      "source": [
        "data2"
      ],
      "execution_count": 0,
      "outputs": [
        {
          "output_type": "execute_result",
          "data": {
            "text/html": [
              "<div>\n",
              "<style scoped>\n",
              "    .dataframe tbody tr th:only-of-type {\n",
              "        vertical-align: middle;\n",
              "    }\n",
              "\n",
              "    .dataframe tbody tr th {\n",
              "        vertical-align: top;\n",
              "    }\n",
              "\n",
              "    .dataframe thead th {\n",
              "        text-align: right;\n",
              "    }\n",
              "</style>\n",
              "<table border=\"1\" class=\"dataframe\">\n",
              "  <thead>\n",
              "    <tr style=\"text-align: right;\">\n",
              "      <th></th>\n",
              "      <th>thrshold</th>\n",
              "      <th>accurancy</th>\n",
              "      <th>mcc</th>\n",
              "      <th>TP</th>\n",
              "      <th>FN</th>\n",
              "      <th>FP</th>\n",
              "      <th>TN</th>\n",
              "    </tr>\n",
              "  </thead>\n",
              "  <tbody>\n",
              "    <tr>\n",
              "      <th>0</th>\n",
              "      <td>1.000000e+00</td>\n",
              "      <td>0.719740</td>\n",
              "      <td>0.040274</td>\n",
              "      <td>178</td>\n",
              "      <td>78788</td>\n",
              "      <td>0</td>\n",
              "      <td>202159</td>\n",
              "    </tr>\n",
              "    <tr>\n",
              "      <th>1</th>\n",
              "      <td>1.000000e-01</td>\n",
              "      <td>0.962518</td>\n",
              "      <td>0.126448</td>\n",
              "      <td>178</td>\n",
              "      <td>10537</td>\n",
              "      <td>0</td>\n",
              "      <td>270410</td>\n",
              "    </tr>\n",
              "    <tr>\n",
              "      <th>2</th>\n",
              "      <td>1.000000e-02</td>\n",
              "      <td>0.995991</td>\n",
              "      <td>0.368580</td>\n",
              "      <td>178</td>\n",
              "      <td>1127</td>\n",
              "      <td>0</td>\n",
              "      <td>279820</td>\n",
              "    </tr>\n",
              "    <tr>\n",
              "      <th>3</th>\n",
              "      <td>1.000000e-03</td>\n",
              "      <td>0.999644</td>\n",
              "      <td>0.800037</td>\n",
              "      <td>178</td>\n",
              "      <td>100</td>\n",
              "      <td>0</td>\n",
              "      <td>280847</td>\n",
              "    </tr>\n",
              "    <tr>\n",
              "      <th>4</th>\n",
              "      <td>1.000000e-04</td>\n",
              "      <td>0.999900</td>\n",
              "      <td>0.929511</td>\n",
              "      <td>178</td>\n",
              "      <td>28</td>\n",
              "      <td>0</td>\n",
              "      <td>280919</td>\n",
              "    </tr>\n",
              "    <tr>\n",
              "      <th>5</th>\n",
              "      <td>1.000000e-05</td>\n",
              "      <td>0.999964</td>\n",
              "      <td>0.972745</td>\n",
              "      <td>177</td>\n",
              "      <td>9</td>\n",
              "      <td>1</td>\n",
              "      <td>280938</td>\n",
              "    </tr>\n",
              "    <tr>\n",
              "      <th>6</th>\n",
              "      <td>1.000000e-06</td>\n",
              "      <td>0.999968</td>\n",
              "      <td>0.975147</td>\n",
              "      <td>176</td>\n",
              "      <td>7</td>\n",
              "      <td>2</td>\n",
              "      <td>280940</td>\n",
              "    </tr>\n",
              "    <tr>\n",
              "      <th>7</th>\n",
              "      <td>1.000000e-07</td>\n",
              "      <td>0.999982</td>\n",
              "      <td>0.985989</td>\n",
              "      <td>176</td>\n",
              "      <td>3</td>\n",
              "      <td>2</td>\n",
              "      <td>280944</td>\n",
              "    </tr>\n",
              "    <tr>\n",
              "      <th>8</th>\n",
              "      <td>1.000000e-08</td>\n",
              "      <td>0.999989</td>\n",
              "      <td>0.991548</td>\n",
              "      <td>176</td>\n",
              "      <td>1</td>\n",
              "      <td>2</td>\n",
              "      <td>280946</td>\n",
              "    </tr>\n",
              "    <tr>\n",
              "      <th>9</th>\n",
              "      <td>1.000000e-09</td>\n",
              "      <td>0.999989</td>\n",
              "      <td>0.991548</td>\n",
              "      <td>176</td>\n",
              "      <td>1</td>\n",
              "      <td>2</td>\n",
              "      <td>280946</td>\n",
              "    </tr>\n",
              "    <tr>\n",
              "      <th>10</th>\n",
              "      <td>1.000000e-10</td>\n",
              "      <td>0.999986</td>\n",
              "      <td>0.988709</td>\n",
              "      <td>175</td>\n",
              "      <td>1</td>\n",
              "      <td>3</td>\n",
              "      <td>280946</td>\n",
              "    </tr>\n",
              "    <tr>\n",
              "      <th>11</th>\n",
              "      <td>1.000000e-11</td>\n",
              "      <td>0.999979</td>\n",
              "      <td>0.983007</td>\n",
              "      <td>173</td>\n",
              "      <td>1</td>\n",
              "      <td>5</td>\n",
              "      <td>280946</td>\n",
              "    </tr>\n",
              "    <tr>\n",
              "      <th>12</th>\n",
              "      <td>1.000000e-12</td>\n",
              "      <td>0.999979</td>\n",
              "      <td>0.983007</td>\n",
              "      <td>173</td>\n",
              "      <td>1</td>\n",
              "      <td>5</td>\n",
              "      <td>280946</td>\n",
              "    </tr>\n",
              "    <tr>\n",
              "      <th>13</th>\n",
              "      <td>1.000000e-13</td>\n",
              "      <td>0.999975</td>\n",
              "      <td>0.980144</td>\n",
              "      <td>172</td>\n",
              "      <td>1</td>\n",
              "      <td>6</td>\n",
              "      <td>280946</td>\n",
              "    </tr>\n",
              "    <tr>\n",
              "      <th>14</th>\n",
              "      <td>1.000000e-14</td>\n",
              "      <td>0.999972</td>\n",
              "      <td>0.977272</td>\n",
              "      <td>171</td>\n",
              "      <td>1</td>\n",
              "      <td>7</td>\n",
              "      <td>280946</td>\n",
              "    </tr>\n",
              "    <tr>\n",
              "      <th>15</th>\n",
              "      <td>1.000000e-15</td>\n",
              "      <td>0.999961</td>\n",
              "      <td>0.968606</td>\n",
              "      <td>168</td>\n",
              "      <td>1</td>\n",
              "      <td>10</td>\n",
              "      <td>280946</td>\n",
              "    </tr>\n",
              "    <tr>\n",
              "      <th>16</th>\n",
              "      <td>1.000000e-16</td>\n",
              "      <td>0.999950</td>\n",
              "      <td>0.959862</td>\n",
              "      <td>165</td>\n",
              "      <td>1</td>\n",
              "      <td>13</td>\n",
              "      <td>280946</td>\n",
              "    </tr>\n",
              "    <tr>\n",
              "      <th>17</th>\n",
              "      <td>1.000000e-17</td>\n",
              "      <td>0.999947</td>\n",
              "      <td>0.956930</td>\n",
              "      <td>164</td>\n",
              "      <td>1</td>\n",
              "      <td>14</td>\n",
              "      <td>280946</td>\n",
              "    </tr>\n",
              "    <tr>\n",
              "      <th>18</th>\n",
              "      <td>1.000000e-18</td>\n",
              "      <td>0.999922</td>\n",
              "      <td>0.936147</td>\n",
              "      <td>157</td>\n",
              "      <td>1</td>\n",
              "      <td>21</td>\n",
              "      <td>280946</td>\n",
              "    </tr>\n",
              "    <tr>\n",
              "      <th>19</th>\n",
              "      <td>1.000000e-19</td>\n",
              "      <td>0.999897</td>\n",
              "      <td>0.914893</td>\n",
              "      <td>150</td>\n",
              "      <td>1</td>\n",
              "      <td>28</td>\n",
              "      <td>280946</td>\n",
              "    </tr>\n",
              "  </tbody>\n",
              "</table>\n",
              "</div>"
            ],
            "text/plain": [
              "        thrshold  accurancy       mcc   TP     FN  FP      TN\n",
              "0   1.000000e+00   0.719740  0.040274  178  78788   0  202159\n",
              "1   1.000000e-01   0.962518  0.126448  178  10537   0  270410\n",
              "2   1.000000e-02   0.995991  0.368580  178   1127   0  279820\n",
              "3   1.000000e-03   0.999644  0.800037  178    100   0  280847\n",
              "4   1.000000e-04   0.999900  0.929511  178     28   0  280919\n",
              "5   1.000000e-05   0.999964  0.972745  177      9   1  280938\n",
              "6   1.000000e-06   0.999968  0.975147  176      7   2  280940\n",
              "7   1.000000e-07   0.999982  0.985989  176      3   2  280944\n",
              "8   1.000000e-08   0.999989  0.991548  176      1   2  280946\n",
              "9   1.000000e-09   0.999989  0.991548  176      1   2  280946\n",
              "10  1.000000e-10   0.999986  0.988709  175      1   3  280946\n",
              "11  1.000000e-11   0.999979  0.983007  173      1   5  280946\n",
              "12  1.000000e-12   0.999979  0.983007  173      1   5  280946\n",
              "13  1.000000e-13   0.999975  0.980144  172      1   6  280946\n",
              "14  1.000000e-14   0.999972  0.977272  171      1   7  280946\n",
              "15  1.000000e-15   0.999961  0.968606  168      1  10  280946\n",
              "16  1.000000e-16   0.999950  0.959862  165      1  13  280946\n",
              "17  1.000000e-17   0.999947  0.956930  164      1  14  280946\n",
              "18  1.000000e-18   0.999922  0.936147  157      1  21  280946\n",
              "19  1.000000e-19   0.999897  0.914893  150      1  28  280946"
            ]
          },
          "metadata": {
            "tags": []
          },
          "execution_count": 4
        }
      ]
    },
    {
      "cell_type": "markdown",
      "metadata": {
        "id": "IjbCVhPxMchx",
        "colab_type": "text"
      },
      "source": [
        "## Apply the threshold of 1e-12 to set2. "
      ]
    },
    {
      "cell_type": "code",
      "metadata": {
        "id": "29t2LcR0M4No",
        "colab_type": "code",
        "outputId": "989e286a-236b-472a-c835-5eddd6b7aa6c",
        "colab": {
          "resources": {
            "http://localhost:8080/nbextensions/google.colab/files.js": {
              "data": "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",
              "ok": true,
              "headers": [
                [
                  "content-type",
                  "application/javascript"
                ]
              ],
              "status": 200,
              "status_text": "OK"
            }
          },
          "base_uri": "https://localhost:8080/",
          "height": 52
        }
      },
      "source": [
        "from google.colab import files\n",
        "uploaded = files.upload()"
      ],
      "execution_count": 0,
      "outputs": [
        {
          "output_type": "display_data",
          "data": {
            "text/html": [
              "\n",
              "     <input type=\"file\" id=\"files-3f119c6e-5913-4942-a3f3-233e4aa00eef\" name=\"files[]\" multiple disabled />\n",
              "     <output id=\"result-3f119c6e-5913-4942-a3f3-233e4aa00eef\">\n",
              "      Upload widget is only available when the cell has been executed in the\n",
              "      current browser session. Please rerun this cell to enable.\n",
              "      </output>\n",
              "      <script src=\"/nbextensions/google.colab/files.js\"></script> "
            ],
            "text/plain": [
              "<IPython.core.display.HTML object>"
            ]
          },
          "metadata": {
            "tags": []
          }
        }
      ]
    },
    {
      "cell_type": "markdown",
      "metadata": {
        "id": "-wQuCCVHBvKD",
        "colab_type": "text"
      },
      "source": [
        "With the following command we want to find into the positive set, the protein with an e-value higher than the threshold used for the classification. The resulting proteins are **false negatives**: they are classified as negatives even if having the Kunitz domain."
      ]
    },
    {
      "cell_type": "code",
      "metadata": {
        "colab_type": "code",
        "id": "O09WpDu1QT9D",
        "colab": {}
      },
      "source": [
        "!awk '{if($2>1e-12) print $0}' positive_set2.out"
      ],
      "execution_count": 0,
      "outputs": []
    },
    {
      "cell_type": "markdown",
      "metadata": {
        "id": "S5h-Kcd-CnpQ",
        "colab_type": "text"
      },
      "source": [
        "Q9BQY6\n",
        "P86963\n",
        "Q11101\n",
        "O62247\n",
        "D3GGZ8\n",
        " Are false negatives. Let's see their peculiarites by going to UniProtKB database.\n",
        "\n",
        " 1. **O62247**: appears to lack serine protease inhibitor activity in vitro when tested with bovine pancreatic alpha-chymotrypsin and elastase. It is uncertain if its acitvity is genuine as bli-5 lacks all the catalytic features of serine proteases.\n",
        " 2. **Q9BQY6** is classified as WAP four-disulfide core domain protein (26-73) but contains also the BPTI/KUnitz domain\n",
        " 3. **Q11101** has a BPTI/Kunitz inhibitor domain-containing protein C02F12.5. The BPTI domain is shorter than the general one (54 residues despite 58)\n",
        " 4. **P86963** is classified as BPTI/Kunitz domain-containing protein 2 but contains the 54 resdiues BPTI domain\n",
        " 5. **D3GGZ8** is classifieed as Kunitz-type protein bli-5, as O62247, but has a longer BPTI/Kunitz inhibitor domain of 71 residues. "
      ]
    },
    {
      "cell_type": "markdown",
      "metadata": {
        "id": "6UbC_hQYGZmg",
        "colab_type": "text"
      },
      "source": [
        "With the following command we want to find the false positives: proteins with an e-vale lower than the threshold for the classification but does not contain the BPTI/Kunitz inhibitor domain. "
      ]
    },
    {
      "cell_type": "code",
      "metadata": {
        "id": "f4aBl_ocNt3U",
        "colab_type": "code",
        "colab": {}
      },
      "source": [
        "!awk '{if($2<=1e-12) print $0}' ok_negative_set2.out"
      ],
      "execution_count": 0,
      "outputs": []
    },
    {
      "cell_type": "markdown",
      "metadata": {
        "id": "2Y5KqVhkG4OK",
        "colab_type": "text"
      },
      "source": [
        "**G3LH89** has an e-value of 1e-23 but is classified as negative. Let's see why. G3LH89 is a Kunitz-type serine protease inhibitor Bi-KTI: it inhibits plasmin and acts as an antifibrinolityic agent. It contains a BPTI/Kunitz inhibitor of 51 residues and belongs to the venom Kunitz-type family."
      ]
    },
    {
      "cell_type": "code",
      "metadata": {
        "id": "Bnq25e6yN6A5",
        "colab_type": "code",
        "colab": {}
      },
      "source": [
        "!sort -gk 2 ok_negative_set2.out | head"
      ],
      "execution_count": 0,
      "outputs": []
    },
    {
      "cell_type": "code",
      "metadata": {
        "colab_type": "code",
        "id": "lWI9-YzcOKEt",
        "colab": {}
      },
      "source": [
        "!sort -grk 2 positive_set2.out| head"
      ],
      "execution_count": 0,
      "outputs": []
    },
    {
      "cell_type": "markdown",
      "metadata": {
        "colab_type": "text",
        "id": "WNGOZS_qOSsU"
      },
      "source": [
        "##Apply the threshold of 1e-09 to set1. "
      ]
    },
    {
      "cell_type": "code",
      "metadata": {
        "id": "ts2t7NOJOiOb",
        "colab_type": "code",
        "colab": {}
      },
      "source": [
        "from google.colab import files\n",
        "uploaded_1 = files.upload()"
      ],
      "execution_count": 0,
      "outputs": []
    },
    {
      "cell_type": "code",
      "metadata": {
        "id": "_nyuBwq8MnTr",
        "colab_type": "code",
        "colab": {}
      },
      "source": [
        "!awk '{if($2>1e-09) print $0}' positive_set1.out"
      ],
      "execution_count": 0,
      "outputs": []
    },
    {
      "cell_type": "code",
      "metadata": {
        "id": "Y1F_MHIiQiRw",
        "colab_type": "code",
        "colab": {}
      },
      "source": [
        "!awk '{if($2<=1e-09) print $0}' ok_negative_set1.out"
      ],
      "execution_count": 0,
      "outputs": []
    },
    {
      "cell_type": "code",
      "metadata": {
        "id": "lpd2IsYSQseo",
        "colab_type": "code",
        "colab": {}
      },
      "source": [
        "!sort -gk 2 ok_negative_set1.out | head"
      ],
      "execution_count": 0,
      "outputs": []
    },
    {
      "cell_type": "code",
      "metadata": {
        "id": "csF1X79_Qzjn",
        "colab_type": "code",
        "colab": {}
      },
      "source": [
        "!sort -grk 2 positive_set1.out | head"
      ],
      "execution_count": 0,
      "outputs": []
    },
    {
      "cell_type": "markdown",
      "metadata": {
        "id": "kutPl9CPIBqB",
        "colab_type": "text"
      },
      "source": [
        "# ROC curve"
      ]
    },
    {
      "cell_type": "code",
      "metadata": {
        "id": "Lcsy62NbTDQU",
        "colab_type": "code",
        "outputId": "82fb9d77-8f7d-4128-edd7-caf9fa801f04",
        "colab": {
          "base_uri": "https://localhost:8080/",
          "height": 312
        }
      },
      "source": [
        "import numpy as np\n",
        "import matplotlib.pyplot as plt\n",
        "FP = np.array([28.012044976454636, 3.632357704478069, 0.4118214467497428, 0.02455979241636323, 0.00533908530790505, 0.00106781706158101, 0.0007118780410540065, 0.00035593902052700327, 0.0, 0.0, 0.0, 0.0, 0.0, 0.0, 0.0, 0.0, 0.0, 0.0, 0.0, 0.0])\n",
        "TP = np.array([100.0, 100.0,100.0,100.0,100.0,100.0,100.0,100.0,100.0,100.0,100.0,100.0,100.0, 99.43502824858757, 98.87005649717514, 97.17514124293785, 95.48022598870057, 95.48022598870057, 92.09039548022598, 87.57062146892656])\n",
        "plt.plot(FP,TP)\n",
        "plt.title('ROC curve')\n",
        "plt.xlabel('FPR (%)')\n",
        "plt.ylabel('TPR (%)')\n",
        "plt.show\n"
      ],
      "execution_count": 0,
      "outputs": [
        {
          "output_type": "execute_result",
          "data": {
            "text/plain": [
              "<function matplotlib.pyplot.show>"
            ]
          },
          "metadata": {
            "tags": []
          },
          "execution_count": 17
        },
        {
          "output_type": "display_data",
          "data": {
            "image/png": "[encoded data removed]",
            "text/plain": [
              "<Figure size 432x288 with 1 Axes>"
            ]
          },
          "metadata": {
            "tags": [],
            "needs_background": "light"
          }
        }
      ]
    },
    {
      "cell_type": "code",
      "metadata": {
        "id": "fj-5OLW3WJ5I",
        "colab_type": "code",
        "colab": {}
      },
      "source": [
        "import numpy as np\n",
        "import matplotlib.pyplot as plt\n",
        "FPR = np.array([28.043723549281534, 3.750529459293034, 0.40114327613393275, 0.035593902052700334, 0.009966292574756093, 0.00320345118474303, 0.0024915731436890233, 0.00106781706158101, 0.00035593902052700327, 0.00035593902052700327, 0.00035593902052700327, 0.00035593902052700327, 0.00035593902052700327, 0.00035593902052700327, 0.00035593902052700327, 0.00035593902052700327, 0.00035593902052700327, 0.00035593902052700327, 0.00035593902052700327, 0.00035593902052700327])\n",
        "TPR = np.array([100.0, 100.0, 100.0, 100.0, 100.0, 99.43820224719101,98.87640449438202, 98.87640449438202, 98.87640449438202, 98.87640449438202, 98.31460674157303, 97.19101123595506, 97.19101123595506, 96.62921348314607, 96.06741573033707, 94.3820224719101, 92.69662921348315, 92.13483146067416, 88.20224719101124, 84.26966292134831]\n",
        "plt.plot(FPR, TPR)\n",
        "plt.title('ROC curve')\n",
        "plt.xlabel('FPR (%)')\n",
        "plt.ylabel('TPR (%)')\n",
        "plt.show"
      ],
      "execution_count": 0,
      "outputs": []
    }
  ]
}