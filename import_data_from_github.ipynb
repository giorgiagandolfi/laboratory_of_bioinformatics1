{
  "nbformat": 4,
  "nbformat_minor": 0,
  "metadata": {
    "colab": {
      "name": "import_data_from_github.ipynb",
      "provenance": [],
      "collapsed_sections": [],
      "authorship_tag": "ABX9TyOI4Lp0JCOa3NQigfT8gpmZ",
      "include_colab_link": true
    },
    "kernelspec": {
      "name": "python3",
      "display_name": "Python 3"
    }
  },
  "cells": [
    {
      "cell_type": "markdown",
      "metadata": {
        "id": "view-in-github",
        "colab_type": "text"
      },
      "source": [
        "<a href=\"https://colab.research.google.com/github/giorgiagandolfi/laboratory_of_bioinformatics1/blob/master/import_data_from_github.ipynb\" target=\"_parent\"><img src=\"https://colab.research.google.com/assets/colab-badge.svg\" alt=\"Open In Colab\"/></a>"
      ]
    },
    {
      "cell_type": "code",
      "metadata": {
        "id": "nQ_BESLCdxuJ",
        "colab_type": "code",
        "colab": {},
        "cellView": "both"
      },
      "source": [
        "#prova_import data from github\n",
        "import pandas as pd\n",
        "\n",
        "url = 'https://raw.githubusercontent.com/giorgiagandolfi/laboratory_of_bioinformatics1/master/search_minepdb.csv'\n",
        "\n",
        "names = [\"PDB ID\", \"chain ID\", \"entry ID\", \"Uniprot ID\", \"sequence\", \"lenght\", \"poly type\", \"mol weight\"]\n",
        "data=pd.read_csv(url,names=names)\n",
        "data"
      ],
      "execution_count": 0,
      "outputs": []
    }
  ]
}